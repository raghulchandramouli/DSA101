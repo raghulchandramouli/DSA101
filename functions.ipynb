{
 "cells": [
  {
   "cell_type": "markdown",
   "metadata": {},
   "source": [
    "### Introduction to functions:\n",
    "\n",
    "- Defining Function:\n",
    "- Calling Function:\n",
    "- Function args & Kwargs\n",
    "- Default Parameters\n",
    "- Var - len Args\n",
    "- Return "
   ]
  },
  {
   "cell_type": "code",
   "execution_count": 1,
   "metadata": {},
   "outputs": [],
   "source": [
    "def even_or_odd(num):\n",
    "    '''This function finds odd or even'''\n",
    "    if num % 2 == 0:print(\"this number is even\")\n",
    "    else:print(\"this number is odd\")"
   ]
  },
  {
   "cell_type": "code",
   "execution_count": 6,
   "metadata": {},
   "outputs": [
    {
     "name": "stdout",
     "output_type": "stream",
     "text": [
      "this number is even\n"
     ]
    }
   ],
   "source": [
    "even_or_odd(24)"
   ]
  },
  {
   "cell_type": "code",
   "execution_count": 7,
   "metadata": {},
   "outputs": [
    {
     "data": {
      "text/plain": [
       "5"
      ]
     },
     "execution_count": 7,
     "metadata": {},
     "output_type": "execute_result"
    }
   ],
   "source": [
    "def add(a,b):\n",
    "    '''This function uses multiple args'''\n",
    "    c = a + b\n",
    "    return c\n",
    "\n",
    "add(2,3)\n"
   ]
  },
  {
   "cell_type": "code",
   "execution_count": 2,
   "metadata": {},
   "outputs": [
    {
     "name": "stdout",
     "output_type": "stream",
     "text": [
      "Hello Raghul Welcome to coding\n"
     ]
    }
   ],
   "source": [
    "# Default Parameters:\n",
    "\n",
    "def greet(name):\n",
    "    print(f\"Hello {name} Welcome to coding\")\n",
    "    \n",
    "greet(\"Raghul\")"
   ]
  },
  {
   "cell_type": "code",
   "execution_count": null,
   "metadata": {},
   "outputs": [],
   "source": [
    "def print_name(*args):\n",
    "    for strs in args:\n",
    "        print(strs)\n",
    "        \n",
    "print_name(1,2,3,4,5,6,7,8,9, \"Raghul\")"
   ]
  },
  {
   "cell_type": "code",
   "execution_count": 11,
   "metadata": {},
   "outputs": [
    {
     "name": "stdout",
     "output_type": "stream",
     "text": [
      "Positional arguments : 1\n",
      "Positional arguments : 2\n",
      "Positional arguments : 3\n",
      "Positional arguments : 4\n",
      "Positional arguments : Raghul\n",
      "name:Raghul\n"
     ]
    }
   ],
   "source": [
    "def print_details(*args, **kwargs):\n",
    "    for val in args:\n",
    "        print(f\"Positional arguments : {val}\")\n",
    "        \n",
    "    for key, value in kwargs.items():\n",
    "        print(f\"{key}:{value}\")\n",
    "        \n",
    "print_details(1, 2, 3, 4, \"Raghul\", name=\"Raghul\")"
   ]
  },
  {
   "cell_type": "markdown",
   "metadata": {},
   "source": [
    "### More Examples"
   ]
  },
  {
   "cell_type": "code",
   "execution_count": 13,
   "metadata": {},
   "outputs": [
    {
     "name": "stdout",
     "output_type": "stream",
     "text": [
      "77.0\n",
      "25.0\n"
     ]
    }
   ],
   "source": [
    "def convert_temperature(temp, unit):\n",
    "    \"\"\"This function converts temp into celsuius and fahrenheit\"\"\"\n",
    "    \n",
    "    if unit == \"C\":\n",
    "        return temp * 9/5 + 32 # celsius To Fahrenheit\n",
    "    elif unit == \"F\":\n",
    "        return (temp - 32)* 5/9\n",
    "    else:\n",
    "        return None\n",
    "    \n",
    "print(convert_temperature(25, 'C'))\n",
    "print(convert_temperature(77, 'F'))"
   ]
  },
  {
   "cell_type": "code",
   "execution_count": 15,
   "metadata": {},
   "outputs": [
    {
     "name": "stdout",
     "output_type": "stream",
     "text": [
      "True\n"
     ]
    }
   ],
   "source": [
    "def is_strong_password(password):\n",
    "    \"\"\"This function checks if the password is strong or not\"\"\"\n",
    "    if len(password) < 8:\n",
    "        return False\n",
    "    \n",
    "    if not any(char.isdigit() for char in password):\n",
    "        return False\n",
    "    \n",
    "    if not any(char.islower() for char in password):\n",
    "        return False\n",
    "    \n",
    "    if not any(char.isupper() for char in password):\n",
    "        return False\n",
    "    \n",
    "    if not any(char in '!@#$%^&*()_+' for char in password):\n",
    "        return False\n",
    "    \n",
    "    return True\n",
    "\n",
    "## Calling function:\n",
    "print(is_strong_password(\"Raghul@2004\"))"
   ]
  },
  {
   "cell_type": "code",
   "execution_count": 16,
   "metadata": {},
   "outputs": [
    {
     "name": "stdout",
     "output_type": "stream",
     "text": [
      "34.5\n"
     ]
    }
   ],
   "source": [
    "def calculate_total_cost(cart):\n",
    "    total_cost = 0\n",
    "    \n",
    "    for item in cart:\n",
    "        total_cost += item['price'] * item['quantity']\n",
    "        \n",
    "    return total_cost\n",
    "\n",
    "### Example cart data:\n",
    "\n",
    "cart = [\n",
    "    {'name':'Apple', 'price':0.5, 'quantity':4},\n",
    "    {'name':'banana', 'price':1.5, 'quantity':5},\n",
    "    {'name':'Orange', 'price':2.5, 'quantity':10}\n",
    "]\n",
    "\n",
    "total_cost = calculate_total_cost(cart)\n",
    "print(total_cost)"
   ]
  },
  {
   "cell_type": "code",
   "execution_count": 19,
   "metadata": {},
   "outputs": [
    {
     "name": "stdout",
     "output_type": "stream",
     "text": [
      "True\n",
      "False\n"
     ]
    }
   ],
   "source": [
    "def is_palindrome(s):\n",
    "    s = s.lower().replace(\" \", \"\")\n",
    "    return s == s[::-1]\n",
    "\n",
    "print(is_palindrome(\"101\"))\n",
    "print(is_palindrome(\"Hello\"))"
   ]
  },
  {
   "cell_type": "code",
   "execution_count": 20,
   "metadata": {},
   "outputs": [
    {
     "name": "stdout",
     "output_type": "stream",
     "text": [
      "120\n"
     ]
    }
   ],
   "source": [
    "def factorial(n):\n",
    "    if n == 0:\n",
    "        return 1\n",
    "    else:\n",
    "        return n * factorial(n - 1)\n",
    "    \n",
    "print(factorial(5))"
   ]
  },
  {
   "cell_type": "code",
   "execution_count": 22,
   "metadata": {},
   "outputs": [
    {
     "name": "stdout",
     "output_type": "stream",
     "text": [
      "{'this': 1, 'is': 1, 'a': 1, 'sample': 1, 'text': 1, 'that': 1, 'i': 1, 'have': 1, 'written': 1, 'to': 1, 'test': 1}\n"
     ]
    }
   ],
   "source": [
    "def conut_word_frequency(file_path):\n",
    "    word_count = {}\n",
    "    with open(file_path, \"r\") as file:\n",
    "        for line in file:\n",
    "            words = line.split()\n",
    "            for word in words:\n",
    "                word = word.lower().strip('!@#$%^&*()_+><:\"}{?|}')\n",
    "                word_count[word]=word_count.get(word, 0) + 1\n",
    "                \n",
    "    return word_count\n",
    "\n",
    "file_path = 'sample.txt'\n",
    "word_frequncy = conut_word_frequency(file_path)\n",
    "print(word_frequncy)"
   ]
  },
  {
   "cell_type": "code",
   "execution_count": null,
   "metadata": {},
   "outputs": [],
   "source": []
  }
 ],
 "metadata": {
  "kernelspec": {
   "display_name": "Python 3",
   "language": "python",
   "name": "python3"
  },
  "language_info": {
   "codemirror_mode": {
    "name": "ipython",
    "version": 3
   },
   "file_extension": ".py",
   "mimetype": "text/x-python",
   "name": "python",
   "nbconvert_exporter": "python",
   "pygments_lexer": "ipython3",
   "version": "3.12.3"
  }
 },
 "nbformat": 4,
 "nbformat_minor": 2
}
